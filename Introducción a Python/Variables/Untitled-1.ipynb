{
 "cells": [
  {
   "cell_type": "code",
   "execution_count": 1,
   "metadata": {},
   "outputs": [
    {
     "name": "stdout",
     "output_type": "stream",
     "text": [
      "El valor de x es: 5\n",
      "El valor de y es: 26\n",
      "Tu color favorito es  morado , tienes 21  años y pesas  70.0  kg\n"
     ]
    }
   ],
   "source": [
    "x = 5 \n",
    "y = 1 + x*5 \n",
    "z = (\"hola a todos\") \n",
    "w = input (\"ingresa tu color favorito: \") \n",
    "edad = int (input (\"ingresa tu edad: \")) \n",
    "peso = float (input (\"¿cuánto pesas? \"))  \n",
    "\n",
    "#imprime los datos \n",
    "print(\"El valor de x es:\", x) \n",
    "print(\"El valor de y es:\", y) \n",
    "print(\"Tu color favorito es \",w, \", tienes\",edad, \" años y pesas \",peso,\" kg\") "
   ]
  }
 ],
 "metadata": {
  "kernelspec": {
   "display_name": "Python 3.8.10 64-bit",
   "language": "python",
   "name": "python3"
  },
  "language_info": {
   "codemirror_mode": {
    "name": "ipython",
    "version": 3
   },
   "file_extension": ".py",
   "mimetype": "text/x-python",
   "name": "python",
   "nbconvert_exporter": "python",
   "pygments_lexer": "ipython3",
   "version": "3.8.10"
  },
  "orig_nbformat": 4,
  "vscode": {
   "interpreter": {
    "hash": "e7370f93d1d0cde622a1f8e1c04877d8463912d04d973331ad4851f04de6915a"
   }
  }
 },
 "nbformat": 4,
 "nbformat_minor": 2
}
